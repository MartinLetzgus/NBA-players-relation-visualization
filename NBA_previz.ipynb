{
 "cells": [
  {
   "cell_type": "markdown",
   "metadata": {},
   "source": [
    "# Transforming a Kaggle dataset in order to make graph visualisation with Grephi\n",
    "\n",
    "Link of the Kaggle dataset : https://www.kaggle.com/justinas/nba-players-data\n",
    "\n",
    "The Kaggle dataset we got is made of the statistics of each NBA player from 1996-97 season. Here the statistics don't interest us because we just want to know which player have played together during their career. As an output we want a link table (CSV) whith a row for each 2 players who played together during a year so Gephi can read them easily.\n",
    "\n",
    "I propose 2 methods to get less data as I have seen that too much data make the graph unreadable. The first one is to use only data from the 10 previous years, the second is to keep only the players who played more than 40 matches during a season."
   ]
  },
  {
   "cell_type": "code",
   "execution_count": 1,
   "metadata": {},
   "outputs": [],
   "source": [
    "import pandas as pd\n",
    "import numpy as np\n",
    "import csv"
   ]
  },
  {
   "cell_type": "code",
   "execution_count": 2,
   "metadata": {},
   "outputs": [],
   "source": [
    "data = pd.read_csv(\"nba-players-data/all_seasons.csv\")\n",
    "data = data[['player_name', 'team_abbreviation', 'season']]"
   ]
  },
  {
   "cell_type": "code",
   "execution_count": 3,
   "metadata": {},
   "outputs": [
    {
     "name": "stdout",
     "output_type": "stream",
     "text": [
      "Ended with 82683 relations player1/player2/season/team\n"
     ]
    }
   ],
   "source": [
    "played_together = [['source', 'target', 'season', 'team']]\n",
    "\n",
    "for team in data['team_abbreviation'].unique():\n",
    "    for year in data['season'].unique():\n",
    "        tmp = data.loc[data['season'] == year]\n",
    "        tmp = tmp.loc[tmp['team_abbreviation'] == team]\n",
    "        tmp = tmp.to_numpy()\n",
    "        for p1 in range (int(tmp.size/3)):\n",
    "            for p2 in range (p1+1, int(tmp.size/3)):\n",
    "                played_together.append([tmp[p1][0], tmp[p2][0], year, team])\n",
    "\n",
    "print('Ended with '+str(len(played_together)-1) + ' relations player1/player2/season/team')"
   ]
  },
  {
   "cell_type": "code",
   "execution_count": 4,
   "metadata": {},
   "outputs": [],
   "source": [
    "with open(\"NBA_played_together.csv\", \"w\", newline=\"\") as f:\n",
    "    writer = csv.writer(f)\n",
    "    writer.writerows(played_together)"
   ]
  },
  {
   "cell_type": "markdown",
   "metadata": {},
   "source": [
    "### What if we want only players after 2010 ?"
   ]
  },
  {
   "cell_type": "code",
   "execution_count": 5,
   "metadata": {},
   "outputs": [],
   "source": [
    "data = pd.read_csv(\"nba-players-data/all_seasons.csv\")\n",
    "data = data[['player_name', 'team_abbreviation', 'season']]\n",
    "data = data[data.season >= '2009-10']"
   ]
  },
  {
   "cell_type": "code",
   "execution_count": 6,
   "metadata": {},
   "outputs": [
    {
     "name": "stdout",
     "output_type": "stream",
     "text": [
      "Ended with 41379 relations player1/player2/season/team\n"
     ]
    }
   ],
   "source": [
    "played_together = [['source', 'target', 'season', 'team']]\n",
    "\n",
    "for team in data['team_abbreviation'].unique():\n",
    "    for year in data['season'].unique():\n",
    "        tmp = data.loc[data['season'] == year]\n",
    "        tmp = tmp.loc[tmp['team_abbreviation'] == team]\n",
    "        tmp = tmp.to_numpy()\n",
    "        for p1 in range (int(tmp.size/3)):\n",
    "            for p2 in range (p1+1, int(tmp.size/3)):\n",
    "                played_together.append([tmp[p1][0], tmp[p2][0], year, team])\n",
    "                \n",
    "print('Ended with '+str(len(played_together)-1) + ' relations player1/player2/season/team')"
   ]
  },
  {
   "cell_type": "code",
   "execution_count": 7,
   "metadata": {},
   "outputs": [],
   "source": [
    "with open(\"NBA_played_together_after_2010.csv\", \"w\", newline=\"\") as f:\n",
    "    writer = csv.writer(f)\n",
    "    writer.writerows(played_together)"
   ]
  },
  {
   "cell_type": "markdown",
   "metadata": {},
   "source": [
    "### We still have a lot of players, so in order to get less players we will keep only those who played 40 games ore more in a season"
   ]
  },
  {
   "cell_type": "code",
   "execution_count": 8,
   "metadata": {},
   "outputs": [],
   "source": [
    "data = pd.read_csv(\"nba-players-data/all_seasons.csv\")\n",
    "data = data[['player_name', 'team_abbreviation', 'season', 'gp']]\n",
    "data = data[data.gp >= 40]\n",
    "data = data[data.season >= '2009-10']"
   ]
  },
  {
   "cell_type": "code",
   "execution_count": 9,
   "metadata": {},
   "outputs": [
    {
     "name": "stdout",
     "output_type": "stream",
     "text": [
      "Ended with 18898 relations player1/player2/season/team\n"
     ]
    }
   ],
   "source": [
    "played_together = [['source', 'target', 'season', 'team']]\n",
    "\n",
    "for team in data['team_abbreviation'].unique():\n",
    "    for year in data['season'].unique():\n",
    "        tmp = data.loc[data['season'] == year]\n",
    "        tmp = tmp.loc[tmp['team_abbreviation'] == team]\n",
    "        tmp = tmp.to_numpy()\n",
    "        for p1 in range (int(tmp.size/4)):\n",
    "            for p2 in range (p1+1, int(tmp.size/4)):\n",
    "                played_together.append([tmp[p1][0], tmp[p2][0], year, team])\n",
    "                \n",
    "print('Ended with '+str(len(played_together)-1) + ' relations player1/player2/season/team')"
   ]
  },
  {
   "cell_type": "code",
   "execution_count": 10,
   "metadata": {},
   "outputs": [],
   "source": [
    "with open(\"NBA_played_together_after_2010_best.csv\", \"w\", newline=\"\") as f:\n",
    "    writer = csv.writer(f)\n",
    "    writer.writerows(played_together)"
   ]
  }
 ],
 "metadata": {
  "kernelspec": {
   "display_name": "Python 3",
   "language": "python",
   "name": "python3"
  },
  "language_info": {
   "codemirror_mode": {
    "name": "ipython",
    "version": 3
   },
   "file_extension": ".py",
   "mimetype": "text/x-python",
   "name": "python",
   "nbconvert_exporter": "python",
   "pygments_lexer": "ipython3",
   "version": "3.7.4"
  }
 },
 "nbformat": 4,
 "nbformat_minor": 4
}
